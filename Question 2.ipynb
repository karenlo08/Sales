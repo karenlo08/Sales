{
  "metadata": {
    "kernelspec": {
      "name": "python",
      "display_name": "Python (Pyodide)",
      "language": "python"
    },
    "language_info": {
      "codemirror_mode": {
        "name": "python",
        "version": 3
      },
      "file_extension": ".py",
      "mimetype": "text/x-python",
      "name": "python",
      "nbconvert_exporter": "python",
      "pygments_lexer": "ipython3",
      "version": "3.8"
    }
  },
  "nbformat_minor": 4,
  "nbformat": 4,
  "cells": [
    {
      "cell_type": "markdown",
      "source": "## Question 2\n\nThe number of units sold (in thousands) for three different products on different e-commerce platforms is shown in the table below. Given that the visitor ratio of **Amazon:Walmart:Target** is **50:30:20**, we would like to know which combination of (website, product) converts to the most sales.\n",
      "metadata": {}
    },
    {
      "cell_type": "code",
      "source": "sold_data = {\n    'Amazon': {'A': 90, 'B': 86, 'C': 70},\n    'Walmart': {'A': 52.5, 'B': 51, 'C': 48},\n    'Target': {'A': 27, 'B': 31, 'C': 37}\n}\n\nvisitors = {\n    'Amazon': 50,\n    'Walmart': 30,\n    'Target': 20\n}\n\ndef best_conversion(sales, visitor_data):\n    top_combo = None\n    highest_rate = 0\n    \n    for site, products in sales.items():\n        site_visitors = visitor_data[site]\n        for product, sold in products.items():\n            conversion = sold / site_visitors\n            if conversion > highest_rate:\n                highest_rate = conversion\n                top_combo = (site, product)\n    \n    return top_combo, highest_rate\n\ncombo, rate = best_conversion(sold_data, visitors)\n\nprint(f\"The best combination is {combo} with conversion rate of {rate:.2f}.\")\n",
      "metadata": {
        "trusted": true
      },
      "outputs": [
        {
          "name": "stdout",
          "text": "Top combo is ('Target', 'C') with conversion rate 1.85.\n",
          "output_type": "stream"
        }
      ],
      "execution_count": 3
    },
    {
      "cell_type": "markdown",
      "source": "Top combo is ('Target', 'C') with conversion rate 1.85.",
      "metadata": {}
    },
    {
      "cell_type": "code",
      "source": "",
      "metadata": {
        "trusted": true
      },
      "outputs": [],
      "execution_count": null
    },
    {
      "cell_type": "code",
      "source": "",
      "metadata": {
        "trusted": true
      },
      "outputs": [],
      "execution_count": null
    }
  ]
}